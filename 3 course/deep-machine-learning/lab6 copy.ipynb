{
  "cells": [
    {
      "cell_type": "code",
      "execution_count": 1,
      "metadata": {
        "id": "j03gkGgDAeT3"
      },
      "outputs": [
        {
          "name": "stdout",
          "output_type": "stream",
          "text": [
            "cuda:0\n"
          ]
        }
      ],
      "source": [
        "import torch\n",
        "import torch.nn as nn\n",
        "import torch.optim as optim\n",
        "from torchvision import datasets, transforms\n",
        "\n",
        "import os\n",
        "\n",
        "device = torch.device(\"cuda:0\" if torch.cuda.is_available() else \"cpu\")\n",
        "print(device)"
      ]
    },
    {
      "cell_type": "code",
      "execution_count": 2,
      "metadata": {
        "id": "SFpVf9N2AfeV"
      },
      "outputs": [],
      "source": [
        "class ResidualBlock(nn.Module):\n",
        "    def __init__(self, in_channels, out_channels, stride=1):\n",
        "        super(ResidualBlock, self).__init__()\n",
        "\n",
        "        self.conv_block = nn.Sequential(\n",
        "            nn.Conv2d(in_channels, out_channels, kernel_size=3, stride=stride, padding=1, bias=False), # kernel_size=3, padding=1\n",
        "            nn.BatchNorm2d(out_channels),\n",
        "            nn.ReLU(inplace=True),\n",
        "            nn.Conv2d(out_channels, out_channels, kernel_size=3, stride=1, padding=1, bias=False), # kernel_size=3, padding=1\n",
        "            nn.BatchNorm2d(out_channels)\n",
        "        )\n",
        "\n",
        "        self.relu = nn.ReLU(inplace=True)\n",
        "\n",
        "        self.downsample = nn.Sequential(\n",
        "            nn.Conv2d(in_channels, out_channels, kernel_size=1, stride=stride, bias=False),\n",
        "            nn.BatchNorm2d(out_channels)\n",
        "        ) if stride != 1 or in_channels != out_channels else None\n",
        "\n",
        "    def forward(self, x):\n",
        "        residual = x\n",
        "        out = self.conv_block(x)\n",
        "        if self.downsample:\n",
        "            residual = self.downsample(x)\n",
        "        out += residual\n",
        "        out = self.relu(out)\n",
        "        return out\n"
      ]
    },
    {
      "cell_type": "code",
      "execution_count": 3,
      "metadata": {
        "id": "TPdlwK6wAflr"
      },
      "outputs": [],
      "source": [
        "class ResNet(nn.Module):\n",
        "    def __init__(self, block, layers, num_classes=10):\n",
        "        super(ResNet, self).__init__()\n",
        "        #self.in_channels = 64\n",
        "        self.in_channels = 128\n",
        "        channels = 128\n",
        "        self.initial = nn.Sequential(\n",
        "            nn.Conv2d(3, channels, kernel_size=3, stride=1, padding=1, bias=False),\n",
        "            nn.BatchNorm2d(channels),\n",
        "            nn.ReLU(inplace=True),\n",
        "            nn.MaxPool2d(kernel_size=3, stride=1, padding=1)\n",
        "        )\n",
        "        self.layer1 = self.make_layer(block, channels, layers[0])\n",
        "        self.layer2 = self.make_layer(block, channels * 2, layers[1], stride=2)\n",
        "        self.layer3 = self.make_layer(block, channels * 4, layers[2], stride=2)\n",
        "        self.layer4 = self.make_layer(block, channels * 8, layers[3], stride=2)\n",
        "        self.avgpool = nn.AdaptiveAvgPool2d((1, 1))\n",
        "\n",
        "        self.dropout = nn.Dropout(0.5)\n",
        "\n",
        "        self.fc = nn.Linear(channels * 8, num_classes)\n",
        "\n",
        "    def make_layer(self, block, out_channels, blocks, stride=1):\n",
        "        layers = []\n",
        "        layers.append(block(self.in_channels, out_channels, stride))\n",
        "        self.in_channels = out_channels\n",
        "        for _ in range(1, blocks):\n",
        "            layers.append(block(out_channels, out_channels))\n",
        "        return nn.Sequential(*layers)\n",
        "\n",
        "    def forward(self, x):\n",
        "        x = self.initial(x)\n",
        "        x = self.layer1(x)\n",
        "        x = self.layer2(x)\n",
        "        x = self.layer3(x)\n",
        "        x = self.layer4(x)\n",
        "        x = self.avgpool(x)\n",
        "        x = x.view(x.size(0), -1)\n",
        "\n",
        "        x = self.dropout(x)\n",
        "\n",
        "        x = self.fc(x)\n",
        "        return x"
      ]
    },
    {
      "cell_type": "code",
      "execution_count": 4,
      "metadata": {
        "id": "Dd8eRlsAAfr4"
      },
      "outputs": [],
      "source": [
        "def find_max_index(predictions, target):\n",
        "    predicted_index = predictions.index(max(predictions))\n",
        "    return predicted_index == target\n",
        "\n",
        "def train_and_evaluate(model, train_loader, test_loader, criterion, optimizer, epochs, save_path):\n",
        "    for epoch in range(epochs):\n",
        "        model.train()\n",
        "        for i, (inputs, labels) in enumerate(train_loader):\n",
        "            inputs, labels = inputs.to(device), labels.to(device)\n",
        "            optimizer.zero_grad()\n",
        "            outputs = model(inputs)\n",
        "            loss = criterion(outputs, labels)\n",
        "            loss.backward()\n",
        "            optimizer.step()\n",
        "\n",
        "        with torch.no_grad():\n",
        "            model.eval()\n",
        "            test_loss = 0.0\n",
        "            acc = 0\n",
        "            total = 0\n",
        "\n",
        "            for data, target in test_loader:\n",
        "                data, target = data.to(device), target.to(device)\n",
        "                output = model(data)\n",
        "                output_list = output.cpu().detach().numpy().tolist()\n",
        "                target_list = target.cpu().detach().numpy().tolist()\n",
        "\n",
        "                for i in range(len(data)):\n",
        "                    if find_max_index(output_list[i], target_list[i]):\n",
        "                        acc += 1\n",
        "\n",
        "                total += len(data)\n",
        "                test_loss += criterion(output, target).item()\n",
        "\n",
        "            average_loss = test_loss / len(test_loader)\n",
        "            accuracy = acc / total\n",
        "\n",
        "            print(f'Epoch: {epoch+1} | Train loss: {loss.item():.4f} | Test loss: {average_loss:.4f} | Accuracy: {accuracy:.4f}')\n",
        "            \n",
        "            # Save model\n",
        "            if (epoch % 2 == 0):\n",
        "                state = {\n",
        "                    'epoch': epoch + 1,\n",
        "                    'state_dict': model.state_dict()\n",
        "                    #'optimizer': optimizer.state_dict()\n",
        "                }\n",
        "                torch.save(state, os.path.join(save_path, f'adam_model_epoch_{epoch+1}.pth'))\n"
      ]
    },
    {
      "cell_type": "code",
      "execution_count": 5,
      "metadata": {
        "id": "Z92sYE1FA0XS"
      },
      "outputs": [],
      "source": [
        "# Hyperparameters\n",
        "batch = 128\n",
        "lr = 0.001\n",
        "epochs = 25\n",
        "\n",
        "save_path = './saved_models_1'\n",
        "os.makedirs(save_path, exist_ok=True)"
      ]
    },
    {
      "cell_type": "code",
      "execution_count": 6,
      "metadata": {
        "colab": {
          "base_uri": "https://localhost:8080/"
        },
        "id": "RIWNPMmC6q7_",
        "outputId": "bfea8350-542b-439c-9779-c7c9b089a518"
      },
      "outputs": [
        {
          "name": "stdout",
          "output_type": "stream",
          "text": [
            "Files already downloaded and verified\n",
            "Files already downloaded and verified\n"
          ]
        }
      ],
      "source": [
        "# Data loading and preprocessing\n",
        "transform = transforms.Compose([\n",
        "    transforms.RandomHorizontalFlip(),\n",
        "    transforms.RandomCrop(32, padding=1),\n",
        "\n",
        "    transforms.ToTensor(),\n",
        "    # transforms.Normalize((0.5, 0.5, 0.5), (0.5, 0.5, 0.5))\n",
        "    transforms.Normalize((0.4914, 0.4822, 0.4465), (0.2023, 0.1994, 0.2010))\n",
        "])\n",
        "\n",
        "train_dataset = datasets.CIFAR10(root='./data', train=True, download=True, transform=transform)\n",
        "train_loader = torch.utils.data.DataLoader(train_dataset, batch_size=batch, shuffle=True)\n",
        "\n",
        "test_dataset = datasets.CIFAR10(root='./data', train=False, download=True, transform=transform)\n",
        "test_loader = torch.utils.data.DataLoader(test_dataset, batch_size=batch, shuffle=False)"
      ]
    },
    {
      "cell_type": "code",
      "execution_count": 7,
      "metadata": {
        "colab": {
          "base_uri": "https://localhost:8080/"
        },
        "id": "ZZ4_OYfyA13o",
        "outputId": "bfe487bb-ba29-4886-88ec-8ca6fb5c0e05"
      },
      "outputs": [
        {
          "name": "stdout",
          "output_type": "stream",
          "text": [
            "Результаты:\n"
          ]
        },
        {
          "name": "stderr",
          "output_type": "stream",
          "text": [
            "/home/n1sko/.local/lib/python3.10/site-packages/torch/autograd/graph.py:744: UserWarning: Plan failed with a cudnnException: CUDNN_BACKEND_EXECUTION_PLAN_DESCRIPTOR: cudnnFinalize Descriptor Failed cudnn_status: CUDNN_STATUS_NOT_SUPPORTED (Triggered internally at ../aten/src/ATen/native/cudnn/Conv_v8.cpp:919.)\n",
            "  return Variable._execution_engine.run_backward(  # Calls into the C++ engine to run the backward pass\n"
          ]
        },
        {
          "name": "stdout",
          "output_type": "stream",
          "text": [
            "Epoch: 1 | Train loss: 1.1094 | Test loss: 1.2067 | Accuracy: 0.5610\n",
            "Epoch: 2 | Train loss: 1.1181 | Test loss: 0.9689 | Accuracy: 0.6565\n",
            "Epoch: 3 | Train loss: 1.0245 | Test loss: 0.9072 | Accuracy: 0.6856\n",
            "Epoch: 4 | Train loss: 0.7531 | Test loss: 0.7877 | Accuracy: 0.7551\n",
            "Epoch: 5 | Train loss: 0.5004 | Test loss: 0.6460 | Accuracy: 0.7833\n",
            "Epoch: 6 | Train loss: 0.8144 | Test loss: 0.5692 | Accuracy: 0.8051\n",
            "Epoch: 7 | Train loss: 0.5269 | Test loss: 0.5113 | Accuracy: 0.8289\n",
            "Epoch: 8 | Train loss: 0.4429 | Test loss: 0.5426 | Accuracy: 0.8193\n",
            "Epoch: 9 | Train loss: 0.6490 | Test loss: 0.4454 | Accuracy: 0.8536\n",
            "Epoch: 10 | Train loss: 0.3432 | Test loss: 0.3971 | Accuracy: 0.8678\n",
            "Epoch: 11 | Train loss: 0.5563 | Test loss: 0.4161 | Accuracy: 0.8622\n",
            "Epoch: 12 | Train loss: 0.4189 | Test loss: 0.3878 | Accuracy: 0.8701\n",
            "Epoch: 13 | Train loss: 0.2659 | Test loss: 0.4183 | Accuracy: 0.8641\n",
            "Epoch: 14 | Train loss: 0.2704 | Test loss: 0.4125 | Accuracy: 0.8672\n",
            "Epoch: 15 | Train loss: 0.2383 | Test loss: 0.4251 | Accuracy: 0.8699\n",
            "Epoch: 16 | Train loss: 0.2532 | Test loss: 0.3901 | Accuracy: 0.8768\n",
            "Epoch: 17 | Train loss: 0.2153 | Test loss: 0.3775 | Accuracy: 0.8848\n",
            "Epoch: 18 | Train loss: 0.1183 | Test loss: 0.3866 | Accuracy: 0.8828\n",
            "Epoch: 19 | Train loss: 0.1468 | Test loss: 0.3524 | Accuracy: 0.8926\n",
            "Epoch: 20 | Train loss: 0.1580 | Test loss: 0.3850 | Accuracy: 0.8885\n",
            "Epoch: 21 | Train loss: 0.0543 | Test loss: 0.4138 | Accuracy: 0.8784\n",
            "Epoch: 22 | Train loss: 0.1116 | Test loss: 0.3745 | Accuracy: 0.8938\n",
            "Epoch: 23 | Train loss: 0.2117 | Test loss: 0.4268 | Accuracy: 0.8886\n",
            "Epoch: 24 | Train loss: 0.2070 | Test loss: 0.4175 | Accuracy: 0.8870\n",
            "Epoch: 25 | Train loss: 0.1083 | Test loss: 0.4144 | Accuracy: 0.8925\n"
          ]
        }
      ],
      "source": [
        "# Model, loss function, and optimizer\n",
        "model = ResNet(ResidualBlock, [2, 2, 2, 2]).to(device)\n",
        "criterion = nn.CrossEntropyLoss().to(device)\n",
        "optimizer = optim.Adam(model.parameters(), lr=lr)\n",
        "\n",
        "print(\"Результаты:\")\n",
        "# Training and evaluation\n",
        "train_and_evaluate(model, train_loader, test_loader, criterion, optimizer, epochs, save_path)"
      ]
    }
  ],
  "metadata": {
    "accelerator": "GPU",
    "colab": {
      "gpuType": "T4",
      "provenance": []
    },
    "kernelspec": {
      "display_name": "Python 3",
      "name": "python3"
    },
    "language_info": {
      "codemirror_mode": {
        "name": "ipython",
        "version": 3
      },
      "file_extension": ".py",
      "mimetype": "text/x-python",
      "name": "python",
      "nbconvert_exporter": "python",
      "pygments_lexer": "ipython3",
      "version": "3.10.12"
    }
  },
  "nbformat": 4,
  "nbformat_minor": 0
}
