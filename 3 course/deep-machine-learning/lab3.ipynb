{
  "nbformat": 4,
  "nbformat_minor": 0,
  "metadata": {
    "colab": {
      "provenance": [],
      "authorship_tag": "ABX9TyPZaVGo8USEsJfhvmxj301u"
    },
    "kernelspec": {
      "name": "python3",
      "display_name": "Python 3"
    },
    "language_info": {
      "name": "python"
    }
  },
  "cells": [
    {
      "cell_type": "code",
      "execution_count": null,
      "metadata": {
        "id": "V6VGvvtC345q"
      },
      "outputs": [],
      "source": [
        "import numpy as np\n",
        "import matplotlib.pyplot as plt\n",
        "import random"
      ]
    },
    {
      "cell_type": "markdown",
      "metadata": {
        "id": "bvCQP2FP6TMU"
      },
      "source": [
        "## Генерация выборок"
      ]
    },
    {
      "cell_type": "code",
      "execution_count": null,
      "metadata": {
        "id": "ZsGcEFzN6NY5"
      },
      "outputs": [],
      "source": [
        "def circle(n=1000, noise=0.01):\n",
        "    radius = 5\n",
        "    x1 = []\n",
        "    x2 = []\n",
        "\n",
        "    def get_circle_label(p, center):\n",
        "        return 1 if np.linalg.norm([p[0] - center[0], p[1] - center[1]]) < (radius * 0.5) else 0\n",
        "\n",
        "    for _ in range(n // 2):\n",
        "        r = np.random.uniform(0, radius * 0.5)\n",
        "        angle = np.random.uniform(0, 2 * np.pi)\n",
        "        x = r * np.sin(angle)\n",
        "        y = r * np.cos(angle)\n",
        "        noise_x = np.random.uniform(-radius, radius) * noise\n",
        "        noise_y = np.random.uniform(-radius, radius) * noise\n",
        "        label = get_circle_label([x + noise_x, y + noise_y], [0, 0])\n",
        "        point = [x, y]\n",
        "        x1.append(point) if label == 0 else x2.append(point)\n",
        "\n",
        "    for _ in range(n // 2):\n",
        "        r = np.random.uniform(radius * 0.7, radius)\n",
        "        angle = np.random.uniform(0, 2 * np.pi)\n",
        "        x = r * np.sin(angle)\n",
        "        y = r * np.cos(angle)\n",
        "        noise_x = np.random.uniform(-radius, radius) * noise\n",
        "        noise_y = np.random.uniform(-radius, radius) * noise\n",
        "        label = get_circle_label([x + noise_x, y + noise_y], [0, 0])\n",
        "        point = [x, y]\n",
        "        x1.append(point) if label == 0 else x2.append(point)\n",
        "\n",
        "    x1 = np.array(x1)\n",
        "    x2 = np.array(x2)\n",
        "\n",
        "    return x1, x2\n"
      ]
    },
    {
      "cell_type": "code",
      "execution_count": null,
      "metadata": {
        "id": "bOQlSZWKjheU"
      },
      "outputs": [],
      "source": [
        "def xor(n=200, noise=0.1):\n",
        "    def get_xor_label(p):\n",
        "        return 1 if p[0] * p[1] >= 0 else 0\n",
        "\n",
        "    x1 = []\n",
        "    x2 = []\n",
        "    for _ in range(n):\n",
        "        x = np.random.uniform(-5, 5)\n",
        "        padding = 0.3\n",
        "        x += padding if x > 0 else -padding\n",
        "        y = np.random.uniform(-5, 5)\n",
        "        y += padding if y > 0 else -padding\n",
        "        noise_x = np.random.uniform(-5, 5) * noise\n",
        "        noise_y = np.random.uniform(-5, 5) * noise\n",
        "        label = get_xor_label([x + noise_x, y + noise_y])\n",
        "        x1.append([x, y]) if label == 0 else x2.append([x,y])\n",
        "\n",
        "    x1 = np.array(x1)\n",
        "    x2 = np.array(x2)\n",
        "\n",
        "    return x1, x2"
      ]
    },
    {
      "cell_type": "code",
      "execution_count": null,
      "metadata": {
        "id": "MTi-XAkBlC-G"
      },
      "outputs": [],
      "source": [
        "def gaussian(n_points=200, noise=0.1):\n",
        "    center1 = np.array([1, 1])\n",
        "    center2 = np.array([-1, -1])\n",
        "    radius = 0.3*noise\n",
        "\n",
        "    X1 = np.random.randn(n_points // 2, 2) * radius + center1\n",
        "    X2 = np.random.randn(n_points // 2, 2) * radius + center2\n",
        "\n",
        "    return X1 + np.random.uniform(-noise, noise, X1.shape), X2 + np.random.uniform(-noise, noise, X2.shape)"
      ]
    },
    {
      "cell_type": "code",
      "execution_count": null,
      "metadata": {
        "id": "LcoWw5sQltG1"
      },
      "outputs": [],
      "source": [
        "def spiral(n_points=100, noise=0.2):\n",
        "    n_points //= 2\n",
        "    n = np.sqrt(np.random.rand(n_points, 1)) * 720 * (2 * np.pi) / 360\n",
        "    d1x = -np.cos(n) * n + np.random.rand(n_points, 1) * noise\n",
        "    d1y = np.sin(n) * n + np.random.rand(n_points, 1) * noise\n",
        "\n",
        "    d2x = np.cos(n) * n + np.random.rand(n_points, 1) * noise\n",
        "    d2y = -np.sin(n) * n + np.random.rand(n_points, 1) * noise\n",
        "\n",
        "    return np.hstack((d1x, d1y)),  np.hstack((d2x, d2y))"
      ]
    },
    {
      "cell_type": "code",
      "source": [
        "def split_array(array, ratio):\n",
        "    split_idx = int(len(array) * ratio / 100)\n",
        "    return array[:split_idx], array[split_idx:]"
      ],
      "metadata": {
        "id": "o47ZOjWRR2iH"
      },
      "execution_count": null,
      "outputs": []
    },
    {
      "cell_type": "code",
      "source": [
        "def get_dataset_without_separation(dataset_name, number_of_samples, noise):\n",
        "    if dataset_name == \"circle\":\n",
        "        x1, x2 = circle(number_of_samples, noise)\n",
        "        features = np.vstack((x1, x2))\n",
        "        targets = np.hstack((np.zeros(len(x1)), np.ones(len(x2))))\n",
        "    elif dataset_name == \"xor\":\n",
        "        x1, x2 = xor(number_of_samples, noise)\n",
        "        features = np.vstack((x1, x2))\n",
        "        targets = np.hstack((np.zeros(len(x1)), np.ones(len(x2))))\n",
        "    elif dataset_name == \"gaussian\":\n",
        "        x1, x2 = gaussian(number_of_samples, noise)\n",
        "        features = np.vstack((x1, x2))\n",
        "        targets = np.hstack((np.zeros(len(x1)), np.ones(len(x2))))\n",
        "    elif dataset_name == \"spiral\":\n",
        "        x1, x2 = spiral(number_of_samples, noise)\n",
        "        features = np.vstack((x1, x2))\n",
        "        targets = np.hstack((np.zeros(len(x1)), np.ones(len(x2))))\n",
        "    else:\n",
        "        raise ValueError(\"Unknown dataset name\")\n",
        "\n",
        "    combined = list(zip(features, targets))\n",
        "    random.shuffle(combined)\n",
        "\n",
        "    return combined\n",
        "\n",
        "def get_dataset(dataset_name, number_of_samples, ratio, noise):\n",
        "    combined = get_dataset_without_separation(dataset_name, number_of_samples, noise)\n",
        "\n",
        "    trains, tests = split_array(combined, ratio)\n",
        "\n",
        "    x_train, y_train = zip(*trains)\n",
        "    x_test, y_test = zip(*tests)\n",
        "    x_train = np.array(x_train)\n",
        "    y_train = np.array(y_train)\n",
        "    x_test = np.array(x_test)\n",
        "    y_test = np.array(y_test)\n",
        "\n",
        "    return x_train, y_train, x_test, y_test"
      ],
      "metadata": {
        "id": "1rYf80nsOeNi"
      },
      "execution_count": null,
      "outputs": []
    },
    {
      "cell_type": "markdown",
      "metadata": {
        "id": "Kf6_dA69lEHC"
      },
      "source": [
        "## Функция отображения выборки"
      ]
    },
    {
      "cell_type": "code",
      "execution_count": null,
      "metadata": {
        "id": "iXtM1NJ5lHfm"
      },
      "outputs": [],
      "source": [
        "def print_dataset(x1,x2):\n",
        "  plt.figure(figsize=(8, 8))\n",
        "  plt.scatter(x1[:, 0], x1[:, 1], c='b', label='Class blue')\n",
        "  plt.scatter(x2[:, 0], x2[:, 1], c='r', label='Class red')\n",
        "  plt.title('Generated Data')\n",
        "  plt.legend()\n",
        "  plt.grid(True)\n",
        "  plt.show()"
      ]
    },
    {
      "cell_type": "markdown",
      "metadata": {
        "id": "Rd4Lu7M7jak2"
      },
      "source": [
        "### Пример генерации выборки"
      ]
    },
    {
      "cell_type": "code",
      "execution_count": null,
      "metadata": {
        "id": "eEEoCV2KjXxv"
      },
      "outputs": [],
      "source": [
        "x1, x2 = xor(1000, 0.1)\n",
        "\n",
        "# print_dataset(x1,x2)"
      ]
    },
    {
      "cell_type": "markdown",
      "source": [
        "## Вводные данные"
      ],
      "metadata": {
        "id": "kmg7YCmsxjTo"
      }
    },
    {
      "cell_type": "code",
      "source": [
        "import torch\n",
        "from sklearn.metrics import confusion_matrix\n",
        "from torch import nn\n",
        "import torch.optim as optim\n",
        "from torch.utils.data import TensorDataset, DataLoader\n",
        "from torch.utils.data import random_split\n",
        "#!pip install torch torchvision torchaudio -f https://download.pytorch.org/whl/torch_stable.html\n",
        "#device = torch.device(\"cuda\" if torch.cuda.is_available() else \"cpu\")"
      ],
      "metadata": {
        "id": "EbeOYWdkwl_x"
      },
      "execution_count": null,
      "outputs": []
    },
    {
      "cell_type": "code",
      "source": [
        "seed = 21210\n",
        "random.seed(seed)\n",
        "torch.manual_seed(seed)\n",
        "np.random.seed(seed)\n",
        "\n",
        "ratio = 50\n",
        "eps0 = 0.01\n",
        "\n",
        "curr_dataset = \"circle\"\n",
        "number_of_samples = 50\n",
        "\n",
        "input_size = 2\n",
        "output_size = 1\n",
        "\n",
        "hidden_layers = 5\n",
        "num_neurons = 5\n",
        "activation_function = 'tanh'\n",
        "\n",
        "epochs = 100\n",
        "learning_rate = 0.03"
      ],
      "metadata": {
        "id": "DLZhe_VxxmgJ"
      },
      "execution_count": null,
      "outputs": []
    },
    {
      "cell_type": "markdown",
      "source": [
        "## Создаём скелет нейронной сети с помощью nn.Module"
      ],
      "metadata": {
        "id": "SbzIanm8zDCK"
      }
    },
    {
      "cell_type": "code",
      "source": [
        "class MLP(nn.Module):\n",
        "    def __init__(self, input_size, hidden_layers, num_neurons, output_size, activation_function):\n",
        "        super(MLP, self).__init__()\n",
        "\n",
        "        # Определение функции активации\n",
        "        if activation_function == 'sigmoid':\n",
        "            activation = nn.Sigmoid()\n",
        "        elif activation_function == 'tanh':\n",
        "            activation = nn.Tanh()\n",
        "        elif activation_function == 'relu':\n",
        "            activation = nn.ReLU()\n",
        "        else:\n",
        "            raise ValueError(\"Неизвестная функция активации\")\n",
        "\n",
        "        # Список слоёв\n",
        "        self.layers = nn.ModuleList()\n",
        "\n",
        "        # Добавление входного слоя\n",
        "        self.layers.append(nn.Linear(input_size, num_neurons))\n",
        "        self.layers.append(activation)\n",
        "\n",
        "        # Добавление скрытых слоёв с нашей функцией активации\n",
        "        for _ in range(hidden_layers):\n",
        "            self.layers.append(nn.Linear(num_neurons, num_neurons))\n",
        "            self.layers.append(activation)\n",
        "\n",
        "        # Добавление выходного слоя с функцией активацией сигмоид\n",
        "        self.layers.append(nn.Linear(num_neurons, output_size))\n",
        "        self.layers.append(nn.Sigmoid())\n",
        "\n",
        "    # проходим по всем слоям и вычисляем значения\n",
        "    def forward(self, x):\n",
        "      for layer in self.layers:\n",
        "        x = layer(x)\n",
        "      return x"
      ],
      "metadata": {
        "id": "AVxJ2P0UzD7N"
      },
      "execution_count": null,
      "outputs": []
    },
    {
      "cell_type": "markdown",
      "source": [
        "## Обучение"
      ],
      "metadata": {
        "id": "KWBLCn332tco"
      }
    },
    {
      "cell_type": "code",
      "source": [
        "def fit(model, features, targets, test_features, test_targets, epochs, statistic=True):\n",
        "    features_tensor=torch.from_numpy(features).type(torch.FloatTensor)\n",
        "    targets_tensor=torch.from_numpy(targets).type(torch.FloatTensor)\n",
        "\n",
        "    error_function = torch.nn.BCELoss()\n",
        "    optimizer = torch.optim.SGD(model.parameters(), lr=learning_rate)\n",
        "\n",
        "    for epoch in range(epochs):\n",
        "        for feature, target in zip(features_tensor, targets_tensor):\n",
        "            model.train()   # тренируем\n",
        "\n",
        "            y_pred = model(feature).squeeze()\n",
        "            error = error_function(y_pred, target)\n",
        "\n",
        "            optimizer.zero_grad()\n",
        "            error.backward()\n",
        "            optimizer.step()\n",
        "\n",
        "        if (statistic):\n",
        "            model.eval()\n",
        "            with torch.inference_mode():\n",
        "                test_features_tensor = torch.tensor(test_features).type(torch.FloatTensor)\n",
        "                test_predict = model(test_features_tensor).squeeze()\n",
        "                test_targets_tensor = torch.tensor(test_targets).type(torch.FloatTensor)\n",
        "                test_error = error_function(test_predict, test_targets_tensor)\n",
        "\n",
        "                # преобразовать предсказания в бинарные\n",
        "                binary_pred = torch.round(test_predict)\n",
        "                # считаем количество правильных\n",
        "                good_predict = torch.sum(torch.eq(test_targets_tensor, binary_pred))\n",
        "                total_count = test_targets_tensor.numel()\n",
        "                accuracy = good_predict / total_count\n",
        "\n",
        "            if epoch % 10 == 0:\n",
        "                print(f'Epoch {epoch}, error: {error}, test error: {test_error}, accuracy: {accuracy}')\n",
        "\n",
        "        if (not statistic): model.eval()"
      ],
      "metadata": {
        "id": "ufpioktO27cu"
      },
      "execution_count": null,
      "outputs": []
    },
    {
      "cell_type": "code",
      "source": [
        "model = MLP(input_size, hidden_layers, num_neurons, output_size, activation_function)\n",
        "\n",
        "features, targets, test_features, test_targets = get_dataset(curr_dataset, number_of_samples, ratio, eps0)\n",
        "\n",
        "fit(model, features, targets, test_features, test_targets, epochs)"
      ],
      "metadata": {
        "colab": {
          "base_uri": "https://localhost:8080/"
        },
        "id": "JR55cbdeAk--",
        "outputId": "2adb3269-b9c2-4108-92ce-20cf6ef36374"
      },
      "execution_count": null,
      "outputs": [
        {
          "output_type": "stream",
          "name": "stdout",
          "text": [
            "Epoch 0, error: 0.5729085803031921, test error: 0.6863927245140076, accuracy: 0.5600000023841858\n",
            "Epoch 10, error: 0.8083645701408386, test error: 0.712940514087677, accuracy: 0.4399999976158142\n",
            "Epoch 20, error: 0.8249736428260803, test error: 0.7202110886573792, accuracy: 0.4399999976158142\n",
            "Epoch 30, error: 0.7938252687454224, test error: 0.725989580154419, accuracy: 0.4399999976158142\n",
            "Epoch 40, error: 0.4961720407009125, test error: 0.8133820295333862, accuracy: 0.4399999976158142\n",
            "Epoch 50, error: 0.10681627690792084, test error: 0.9675382375717163, accuracy: 0.6399999856948853\n",
            "Epoch 60, error: 0.034751277416944504, test error: 1.1609948873519897, accuracy: 0.6399999856948853\n",
            "Epoch 70, error: 0.01740121655166149, test error: 1.360985279083252, accuracy: 0.6399999856948853\n",
            "Epoch 80, error: 0.011487836018204689, test error: 1.4897569417953491, accuracy: 0.6399999856948853\n",
            "Epoch 90, error: 0.008542420342564583, test error: 1.5840438604354858, accuracy: 0.6399999856948853\n"
          ]
        }
      ]
    },
    {
      "cell_type": "markdown",
      "source": [
        "# Кросс - Валидация"
      ],
      "metadata": {
        "id": "G1-J-CHRTHMh"
      }
    },
    {
      "cell_type": "markdown",
      "source": [
        "### Генерируем и разделяем выборку на k частей"
      ],
      "metadata": {
        "id": "axOYwm19UlOU"
      }
    },
    {
      "cell_type": "code",
      "source": [
        "def get_dataset_for_validation(dataset_name, number_of_samples, eps0, k):\n",
        "    combined = get_dataset_without_separation(dataset_name, number_of_samples, eps0)\n",
        "    x, y = zip(*combined)\n",
        "\n",
        "    x1 = [part[0] for part in x]\n",
        "    x2 = [part[1] for part in x]\n",
        "\n",
        "    x1_part = np.array_split(np.array(x1), k)\n",
        "    x2_part = np.array_split(np.array(x2), k)\n",
        "\n",
        "    feature_parts = [np.column_stack((x1_part[i], x2_part[i])) for i in range(k)]\n",
        "    target_parts = np.array_split(np.array(y), k)\n",
        "\n",
        "    return np.array(feature_parts), np.array(target_parts)\n",
        "\n",
        "def separation_dataset(S, exclude_index):\n",
        "    if (exclude_index >= S.shape[0]):\n",
        "        print(\"Неправильный индекс\")\n",
        "        exit()\n",
        "\n",
        "    indices_to_combine = [i for i in range(S.shape[0]) if i != exclude_index]\n",
        "\n",
        "    # Объеденение выбранных массивов\n",
        "    combined_array = np.concatenate(S[indices_to_combine])\n",
        "\n",
        "    return np.array(combined_array), np.array(S[exclude_index])"
      ],
      "metadata": {
        "id": "v2Y_74-QTRvi"
      },
      "execution_count": null,
      "outputs": []
    },
    {
      "cell_type": "code",
      "source": [
        "curr_num_neurons = 5\n",
        "curr_input_size = 2\n",
        "curr_output_size = 1\n",
        "min_num_layers = 2\n",
        "max_num_layers = 4\n",
        "num_epochs = 100\n",
        "num_samples_for_cross_valid = 500\n",
        "curr_dataset_for_cross_valid = 'circle'\n",
        "curr_error_function = torch.nn.BCELoss()\n",
        "\n",
        "k = 5"
      ],
      "metadata": {
        "id": "IzqJrqxK4jOk"
      },
      "execution_count": null,
      "outputs": []
    },
    {
      "cell_type": "code",
      "source": [
        "models_for_cross_valid = list()\n",
        "activation_functuions = ['sigmoid', 'tanh', 'relu']\n",
        "statistic_info = list()\n",
        "# генерируем модели с разными функциями активации и разным кол-вом скрытых слоев\n",
        "\n",
        "for curr_num_hidden_layers in range(2, 4 + 1):\n",
        "    for curr_activ_func in activation_functuions:\n",
        "        models_for_cross_valid.append(MLP(curr_input_size, curr_num_hidden_layers, curr_num_neurons, curr_output_size, curr_activ_func))\n",
        "        statistic_info.append([curr_num_hidden_layers, curr_activ_func])\n",
        "\n",
        "feature_parts, target_parts = get_dataset_for_validation(curr_dataset_for_cross_valid, num_samples_for_cross_valid, eps0, k)\n",
        "\n",
        "for exclude_index in range(k):\n",
        "    train_features, test_features = separation_dataset(feature_parts, exclude_index)\n",
        "    train_targets, test_targets = separation_dataset(target_parts, exclude_index)\n",
        "\n",
        "    #print(f'########## {exclude_index} теперь явялется тестовой выборкой ###########')\n",
        "\n",
        "    for i in range(len(models_for_cross_valid)):\n",
        "        curr_model = models_for_cross_valid[i]\n",
        "        optimizer = torch.optim.SGD(curr_model.parameters(), lr=learning_rate)\n",
        "\n",
        "        fit(curr_model, train_features, train_targets, test_features, test_targets, num_epochs, statistic=False)\n",
        "\n",
        "        test_features_tensor = torch.tensor(test_features).type(torch.FloatTensor)\n",
        "        test_pred = curr_model(test_features_tensor).squeeze()\n",
        "        test_features_tensor = torch.tensor(test_features).type(torch.FloatTensor)\n",
        "\n",
        "        test_targets_tensor = torch.tensor(test_targets).type(torch.FloatTensor)\n",
        "        test_error = curr_error_function(test_pred, test_targets_tensor)\n",
        "        print(f\"Модель с кол-вом скрытых слоёв: {statistic_info[i][0]} и функцией активацией: {statistic_info[i][1]}\")\n",
        "        print(f\"test error {test_error}\")"
      ],
      "metadata": {
        "colab": {
          "base_uri": "https://localhost:8080/"
        },
        "id": "o8H8iMZO4-CP",
        "outputId": "78507844-3893-49e8-b4d2-b5fba7e7bbd4"
      },
      "execution_count": null,
      "outputs": [
        {
          "output_type": "stream",
          "name": "stdout",
          "text": [
            "Модель с кол-вом скрытых слоёв: 2 и функцией активацией: sigmoid\n",
            "test error 0.02289244905114174\n",
            "Модель с кол-вом скрытых слоёв: 2 и функцией активацией: tanh\n",
            "test error 0.013675231486558914\n",
            "Модель с кол-вом скрытых слоёв: 2 и функцией активацией: relu\n",
            "test error 0.00021143973572179675\n",
            "Модель с кол-вом скрытых слоёв: 3 и функцией активацией: sigmoid\n",
            "test error 0.6954557299613953\n",
            "Модель с кол-вом скрытых слоёв: 3 и функцией активацией: tanh\n",
            "test error 0.005780908279120922\n",
            "Модель с кол-вом скрытых слоёв: 3 и функцией активацией: relu\n",
            "test error 0.00022160203661769629\n",
            "Модель с кол-вом скрытых слоёв: 4 и функцией активацией: sigmoid\n",
            "test error 0.6965278387069702\n",
            "Модель с кол-вом скрытых слоёв: 4 и функцией активацией: tanh\n",
            "test error 0.00022325647296383977\n",
            "Модель с кол-вом скрытых слоёв: 4 и функцией активацией: relu\n",
            "test error 0.6942646503448486\n",
            "Модель с кол-вом скрытых слоёв: 2 и функцией активацией: sigmoid\n",
            "test error 0.004596631973981857\n",
            "Модель с кол-вом скрытых слоёв: 2 и функцией активацией: tanh\n",
            "test error 0.007295416668057442\n",
            "Модель с кол-вом скрытых слоёв: 2 и функцией активацией: relu\n",
            "test error 0.00014134321827441454\n",
            "Модель с кол-вом скрытых слоёв: 3 и функцией активацией: sigmoid\n",
            "test error 0.6916738748550415\n",
            "Модель с кол-вом скрытых слоёв: 3 и функцией активацией: tanh\n",
            "test error 0.04329393059015274\n",
            "Модель с кол-вом скрытых слоёв: 3 и функцией активацией: relu\n",
            "test error 0.00013420857430901378\n",
            "Модель с кол-вом скрытых слоёв: 4 и функцией активацией: sigmoid\n",
            "test error 0.6913177371025085\n",
            "Модель с кол-вом скрытых слоёв: 4 и функцией активацией: tanh\n",
            "test error 9.377819515066221e-05\n",
            "Модель с кол-вом скрытых слоёв: 4 и функцией активацией: relu\n",
            "test error 0.6924850940704346\n",
            "Модель с кол-вом скрытых слоёв: 2 и функцией активацией: sigmoid\n",
            "test error 0.000521297100931406\n",
            "Модель с кол-вом скрытых слоёв: 2 и функцией активацией: tanh\n",
            "test error 0.0009926375932991505\n",
            "Модель с кол-вом скрытых слоёв: 2 и функцией активацией: relu\n",
            "test error 6.170487904455513e-05\n",
            "Модель с кол-вом скрытых слоёв: 3 и функцией активацией: sigmoid\n",
            "test error 0.6920296549797058\n",
            "Модель с кол-вом скрытых слоёв: 3 и функцией активацией: tanh\n",
            "test error 0.05481370911002159\n",
            "Модель с кол-вом скрытых слоёв: 3 и функцией активацией: relu\n",
            "test error 4.9518253035785165e-06\n",
            "Модель с кол-вом скрытых слоёв: 4 и функцией активацией: sigmoid\n",
            "test error 0.6922024488449097\n",
            "Модель с кол-вом скрытых слоёв: 4 и функцией активацией: tanh\n",
            "test error 5.9716388932429254e-05\n",
            "Модель с кол-вом скрытых слоёв: 4 и функцией активацией: relu\n",
            "test error 0.6924999356269836\n",
            "Модель с кол-вом скрытых слоёв: 2 и функцией активацией: sigmoid\n",
            "test error 0.0005674983840435743\n",
            "Модель с кол-вом скрытых слоёв: 2 и функцией активацией: tanh\n",
            "test error 0.00016984243120532483\n",
            "Модель с кол-вом скрытых слоёв: 2 и функцией активацией: relu\n",
            "test error 4.0748876926954836e-05\n",
            "Модель с кол-вом скрытых слоёв: 3 и функцией активацией: sigmoid\n",
            "test error 0.7057179808616638\n",
            "Модель с кол-вом скрытых слоёв: 3 и функцией активацией: tanh\n",
            "test error 0.00018214082228951156\n",
            "Модель с кол-вом скрытых слоёв: 3 и функцией активацией: relu\n",
            "test error 3.070971388297039e-06\n",
            "Модель с кол-вом скрытых слоёв: 4 и функцией активацией: sigmoid\n",
            "test error 0.7068544030189514\n",
            "Модель с кол-вом скрытых слоёв: 4 и функцией активацией: tanh\n",
            "test error 4.254931627656333e-05\n",
            "Модель с кол-вом скрытых слоёв: 4 и функцией активацией: relu\n",
            "test error 0.7060944437980652\n",
            "Модель с кол-вом скрытых слоёв: 2 и функцией активацией: sigmoid\n",
            "test error 0.00023053587938193232\n",
            "Модель с кол-вом скрытых слоёв: 2 и функцией активацией: tanh\n",
            "test error 5.28769705852028e-05\n",
            "Модель с кол-вом скрытых слоёв: 2 и функцией активацией: relu\n",
            "test error 1.334404350927798e-05\n",
            "Модель с кол-вом скрытых слоёв: 3 и функцией активацией: sigmoid\n",
            "test error 0.5119670033454895\n",
            "Модель с кол-вом скрытых слоёв: 3 и функцией активацией: tanh\n",
            "test error 7.895388989709318e-05\n",
            "Модель с кол-вом скрытых слоёв: 3 и функцией активацией: relu\n",
            "test error 5.518076250154991e-06\n",
            "Модель с кол-вом скрытых слоёв: 4 и функцией активацией: sigmoid\n",
            "test error 0.6982147693634033\n",
            "Модель с кол-вом скрытых слоёв: 4 и функцией активацией: tanh\n",
            "test error 3.422779991524294e-05\n",
            "Модель с кол-вом скрытых слоёв: 4 и функцией активацией: relu\n",
            "test error 0.6976819634437561\n"
          ]
        }
      ]
    }
  ]
}