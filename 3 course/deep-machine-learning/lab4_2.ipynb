{
  "cells": [
    {
      "cell_type": "code",
      "execution_count": null,
      "metadata": {
        "id": "rVQlIHcpHXPL"
      },
      "outputs": [],
      "source": [
        "import math as m\n",
        "import numpy as np\n",
        "import torch\n",
        "from torch.utils.data import Dataset\n",
        "import torch.nn as nn\n",
        "import torch.optim\n",
        "from torchvision.transforms import ToTensor, Lambda\n",
        "from torch.utils.data import DataLoader\n",
        "\n",
        "import matplotlib.pyplot as plt"
      ]
    },
    {
      "cell_type": "markdown",
      "metadata": {
        "id": "P_zbLiSqeXZA"
      },
      "source": [
        "# Функция для выборок"
      ]
    },
    {
      "cell_type": "markdown",
      "metadata": {
        "id": "7OWynesJendQ"
      },
      "source": [
        "ƒ = $a * x^3 + b ⭑ x^2 + c * x + d $"
      ]
    },
    {
      "cell_type": "code",
      "execution_count": null,
      "metadata": {
        "id": "WPAgyyG5eacX"
      },
      "outputs": [],
      "source": [
        "a, b, c, d = [np.random.uniform(-3, 3) for _ in range(4)]\n",
        "def poly(x):\n",
        "    return a * x**3 + b * x**2 + c * x + d"
      ]
    },
    {
      "cell_type": "markdown",
      "metadata": {
        "id": "P0QcXOsMf5b-"
      },
      "source": [
        "$f = x * sin(2 * pi * x) $"
      ]
    },
    {
      "cell_type": "code",
      "execution_count": null,
      "metadata": {
        "id": "8FqRiSc7gE-Z"
      },
      "outputs": [],
      "source": [
        "def f_sin(x):\n",
        "    return x * torch.sin(2 * torch.pi * x)"
      ]
    },
    {
      "cell_type": "markdown",
      "metadata": {
        "id": "AajiAVoCfurj"
      },
      "source": [
        "Оборачиваем всё в dataset"
      ]
    },
    {
      "cell_type": "code",
      "execution_count": null,
      "metadata": {
        "id": "hjzUI7U9fdDh"
      },
      "outputs": [],
      "source": [
        "class CustomDataset(Dataset):\n",
        "    def __init__(self, min_x, max_x, formula, num_samples=1000, e_0 =0.01):\n",
        "        self.min_x = min_x  #отрезок, в интервале которого мы будем генерировать наши значения\n",
        "        self.max_x = max_x\n",
        "        self.formula = formula\n",
        "        self.num_samples = num_samples\n",
        "        # генерируем значения от -1 до 1\n",
        "        self.x = [torch.rand(1) * (self.max_x - self.min_x) + self.min_x for i in range (num_samples)]\n",
        "        self.y = [self.formula(x_i) + np.random.normal(-e_0, e_0) for x_i in self.x]\n",
        "\n",
        "    def __len__(self):\n",
        "        return self.num_samples\n",
        "\n",
        "    def __getitem__(self, idx):\n",
        "        return self.x[idx], self.y[idx]"
      ]
    },
    {
      "cell_type": "markdown",
      "metadata": {
        "id": "52YIdGLMgQKk"
      },
      "source": [
        "Определяем свой МСП"
      ]
    },
    {
      "cell_type": "code",
      "execution_count": null,
      "metadata": {
        "id": "hsIzNIosgULZ"
      },
      "outputs": [],
      "source": [
        "class Net(torch.nn.Module):\n",
        "    def __init__(self, hidden_layers, num_neurons, activation_function):\n",
        "        super(Net, self).__init__()\n",
        "\n",
        "        self.layers = nn.ModuleList() # Создаем список слоев нейронной сети\n",
        "\n",
        "        # Добавляем входной слой\n",
        "        self.layers.append(nn. Linear(in_features=1, out_features=num_neurons))\n",
        "        self.layers.append(activation_function())\n",
        "\n",
        "        # Добавляем скрытые слои с функцией активации\n",
        "        for _ in range(hidden_layers):\n",
        "            self.layers.append(nn.Linear(in_features=num_neurons, out_features=num_neurons))\n",
        "            self.layers.append(activation_function())\n",
        "\n",
        "        # Добавляем выходной слой\n",
        "        self.layers.append(nn.Linear(in_features=num_neurons, out_features=1))\n",
        "\n",
        "    def forward(self, x):\n",
        "        for layer in self.layers:\n",
        "            x = layer(x)\n",
        "        return x"
      ]
    },
    {
      "cell_type": "code",
      "execution_count": null,
      "metadata": {
        "id": "fwjOzCOUVloH"
      },
      "outputs": [],
      "source": [
        "def fit(model, loss_function, optimizer, train_loader, test_loader, epochs, statistic=True):\n",
        "    for epoch in range(epochs):\n",
        "        model.train()\n",
        "        for batch_idx, (data, target) in enumerate(train_loader):\n",
        "            optimizer.zero_grad()\n",
        "            output = model(data)\n",
        "\n",
        "\n",
        "            loss = loss_function(output, target)\n",
        "            loss.backward()\n",
        "            optimizer.step()\n",
        "\n",
        "        if (statistic and (((epoch+1) % 100 == 0) or epoch == 0)):\n",
        "            with torch.no_grad():\n",
        "                model.eval()\n",
        "                test_loss = 0\n",
        "                for data, target in test_loader:\n",
        "                    output = model(data)\n",
        "                    test_loss += loss_function(output, target).item()\n",
        "                test_loss /= len(test_loader.dataset)\n",
        "                acc = 100 - 100 * test_loss\n",
        "                print(f\"Epoch: {epoch+1} | Test loss: {test_loss:.4f} | Accuracy: {acc:.4f}\")"
      ]
    },
    {
      "cell_type": "markdown",
      "metadata": {
        "id": "GKiN9MRMWl8X"
      },
      "source": [
        "## Входные параметры"
      ]
    },
    {
      "cell_type": "code",
      "execution_count": null,
      "metadata": {
        "id": "dgUnYFP7WDTp"
      },
      "outputs": [],
      "source": [
        "seed = 10;\n",
        "torch.manual_seed(seed)\n",
        "np.random.seed(seed)\n",
        "\n",
        "# Для модели\n",
        "num_hidden_layers = 2\n",
        "num_perceptrons_in_layer = 512\n",
        "activ_function = nn.Tanh\n",
        "batch_size = 16\n",
        "learning_rate = 0.001\n",
        "epochs = 800\n",
        "\n",
        "# Для dataset-a\n",
        "min_x = -1\n",
        "max_x = 1\n",
        "formula = f_sin\n",
        "num_train_data = 100\n",
        "num_test_data = 50\n",
        "e_train = 0.1\n",
        "e_test = 0.1\n",
        "\n",
        "# Настройка параметров модели\n",
        "curr_model = Net(num_hidden_layers, num_perceptrons_in_layer, activ_function)\n",
        "loss_function = nn.MSELoss()\n",
        "optimizer = torch.optim.SGD(curr_model.parameters(), lr=learning_rate)"
      ]
    },
    {
      "cell_type": "markdown",
      "metadata": {
        "id": "dQygmsshZWIS"
      },
      "source": [
        "## Результат обучения"
      ]
    },
    {
      "cell_type": "code",
      "execution_count": null,
      "metadata": {
        "colab": {
          "base_uri": "https://localhost:8080/"
        },
        "id": "VOWXWj9zZM_9",
        "outputId": "c6e7107d-e4be-49d7-8f96-7e18ac8d8d7c"
      },
      "outputs": [
        {
          "output_type": "stream",
          "name": "stdout",
          "text": [
            "Epoch: 1 | Test loss: 0.0084 | Accuracy: 99.1588\n",
            "Epoch: 100 | Test loss: 0.0075 | Accuracy: 99.2473\n",
            "Epoch: 200 | Test loss: 0.0074 | Accuracy: 99.2602\n",
            "Epoch: 300 | Test loss: 0.0072 | Accuracy: 99.2799\n",
            "Epoch: 400 | Test loss: 0.0077 | Accuracy: 99.2285\n",
            "Epoch: 500 | Test loss: 0.0088 | Accuracy: 99.1182\n",
            "Epoch: 600 | Test loss: 0.0097 | Accuracy: 99.0319\n",
            "Epoch: 700 | Test loss: 0.0094 | Accuracy: 99.0596\n",
            "Epoch: 800 | Test loss: 0.0096 | Accuracy: 99.0374\n"
          ]
        }
      ],
      "source": [
        "train_data = CustomDataset(min_x, max_x, formula, num_train_data, e_train)\n",
        "test_data = CustomDataset(min_x, max_x, formula, num_test_data, e_test)\n",
        "\n",
        "train_loader = DataLoader(train_data, batch_size=batch_size, shuffle=True)\n",
        "test_loader = DataLoader(test_data, batch_size=batch_size, shuffle=False)\n",
        "\n",
        "fit(curr_model, loss_function, optimizer, train_loader, test_loader, epochs)"
      ]
    },
    {
      "cell_type": "code",
      "execution_count": null,
      "metadata": {
        "colab": {
          "base_uri": "https://localhost:8080/",
          "height": 447
        },
        "id": "qUbuT_26aU67",
        "outputId": "4634a677-29a1-41fa-88c7-5d85783ac69b"
      },
      "outputs": [
        {
          "output_type": "stream",
          "name": "stdout",
          "text": [
            "2000\n"
          ]
        },
        {
          "output_type": "display_data",
          "data": {
            "text/plain": [
              "<Figure size 640x480 with 1 Axes>"
            ],
            "image/png": "[encoded data removed]"
          },
          "metadata": {}
        }
      ],
      "source": [
        "test_features = []\n",
        "test_targets = []\n",
        "for data, target in test_loader:\n",
        "    test_features.extend(data.numpy())\n",
        "    test_targets.extend(target.numpy())\n",
        "\n",
        "train_features = []\n",
        "train_targets = []\n",
        "for data, target in train_loader:\n",
        "    train_features.extend(data.numpy())\n",
        "    train_targets.extend(target.numpy())\n",
        "\n",
        "plt.plot(test_features, test_targets, label=r'test data', marker=\"o\",linestyle='None')\n",
        "plt.plot(train_features, train_targets, label=r'train data', marker=\"o\",linestyle='None')\n",
        "\n",
        "p = np.arange(min_x, max_x, 0.001)\n",
        "f_p = np.array([curr_model(torch.tensor ([p_i], dtype=torch.float32)).detach().numpy() for p_i in p]).flatten()\n",
        "\n",
        "print(len(f_p))\n",
        "plt.plot(p, f_p, label=r'$f(x)$')\n",
        "plt.grid(True)\n",
        "plt.legend (loc='best', fontsize=12)\n",
        "# plt.ylim(-3, 3)\n",
        "# plt.xlim(-3, 3)\n",
        "plt.show()"
      ]
    }
  ],
  "metadata": {
    "colab": {
      "provenance": []
    },
    "kernelspec": {
      "display_name": "Python 3",
      "name": "python3"
    },
    "language_info": {
      "name": "python"
    }
  },
  "nbformat": 4,
  "nbformat_minor": 0
}