{
  "nbformat": 4,
  "nbformat_minor": 0,
  "metadata": {
    "colab": {
      "provenance": [],
      "gpuType": "T4"
    },
    "kernelspec": {
      "name": "python3",
      "display_name": "Python 3"
    },
    "language_info": {
      "name": "python"
    },
    "accelerator": "GPU"
  },
  "cells": [
    {
      "cell_type": "code",
      "source": [
        "import torch\n",
        "import torch.nn as nn\n",
        "import torch.optim as optim\n",
        "from torchvision import datasets, transforms\n",
        "\n",
        "import os\n",
        "\n",
        "device = torch.device(\"cuda:0\" if torch.cuda.is_available() else \"cpu\")\n",
        "print(device)"
      ],
      "metadata": {
        "id": "j03gkGgDAeT3"
      },
      "execution_count": 1,
      "outputs": []
    },
    {
      "cell_type": "code",
      "source": [
        "class ResidualBlock(nn.Module):\n",
        "    def __init__(self, in_channels, out_channels, stride=2):\n",
        "        super(ResidualBlock, self).__init__()\n",
        "\n",
        "        self.conv_block = nn.Sequential(\n",
        "            nn.Conv2d(in_channels, out_channels, kernel_size=5, stride=stride, padding=2, bias=False), # kernel_size=5, padding=2\n",
        "            nn.BatchNorm2d(out_channels),\n",
        "            nn.ReLU(inplace=True),\n",
        "            nn.Conv2d(out_channels, out_channels, kernel_size=5, stride=1, padding=2, bias=False), # kernel_size=5, padding=2\n",
        "            nn.BatchNorm2d(out_channels)\n",
        "        )\n",
        "\n",
        "        self.relu = nn.ReLU(inplace=True)\n",
        "\n",
        "        self.downsample = nn.Sequential(\n",
        "            nn.Conv2d(in_channels, out_channels, kernel_size=1, stride=stride, bias=False),\n",
        "            nn.BatchNorm2d(out_channels)\n",
        "        ) if stride != 1 or in_channels != out_channels else None\n",
        "\n",
        "    def forward(self, x):\n",
        "        residual = x\n",
        "        out = self.conv_block(x)\n",
        "        if self.downsample:\n",
        "            residual = self.downsample(x)\n",
        "        out += residual\n",
        "        out = self.relu(out)\n",
        "        return out\n"
      ],
      "metadata": {
        "id": "SFpVf9N2AfeV"
      },
      "execution_count": 2,
      "outputs": []
    },
    {
      "cell_type": "code",
      "source": [
        "class ResNet(nn.Module):\n",
        "    def __init__(self, block, layers, num_classes=10):\n",
        "        super(ResNet, self).__init__()\n",
        "        self.in_channels = 64\n",
        "        self.initial = nn.Sequential(\n",
        "            nn.Conv2d(3, 64, kernel_size=7, stride=2, padding=3, bias=False),\n",
        "            nn.BatchNorm2d(64),\n",
        "            nn.ReLU(inplace=True),\n",
        "            nn.MaxPool2d(kernel_size=3, stride=2, padding=1)\n",
        "        )\n",
        "        self.layer1 = self.make_layer(block, 64, layers[0])\n",
        "        self.layer2 = self.make_layer(block, 128, layers[1], stride=2)\n",
        "        self.layer3 = self.make_layer(block, 256, layers[2], stride=2)\n",
        "        self.layer4 = self.make_layer(block, 512, layers[3], stride=2)\n",
        "        self.avgpool = nn.AdaptiveAvgPool2d((1, 1))\n",
        "\n",
        "        self.dropout = nn.Dropout(0.5)\n",
        "\n",
        "        self.fc = nn.Linear(512, num_classes)\n",
        "\n",
        "    def make_layer(self, block, out_channels, blocks, stride=1):\n",
        "        layers = []\n",
        "        layers.append(block(self.in_channels, out_channels, stride))\n",
        "        self.in_channels = out_channels\n",
        "        for _ in range(1, blocks):\n",
        "            layers.append(block(out_channels, out_channels))\n",
        "        return nn.Sequential(*layers)\n",
        "\n",
        "    def forward(self, x):\n",
        "        x = self.initial(x)\n",
        "        x = self.layer1(x)\n",
        "        x = self.layer2(x)\n",
        "        x = self.layer3(x)\n",
        "        x = self.layer4(x)\n",
        "        x = self.avgpool(x)\n",
        "        x = x.view(x.size(0), -1)\n",
        "\n",
        "        x = self.dropout(x)\n",
        "\n",
        "        x = self.fc(x)\n",
        "        return x"
      ],
      "metadata": {
        "id": "TPdlwK6wAflr"
      },
      "execution_count": 3,
      "outputs": []
    },
    {
      "cell_type": "code",
      "source": [
        "def find_max_index(predictions, target):\n",
        "    predicted_index = predictions.index(max(predictions))\n",
        "    return predicted_index == target\n",
        "\n",
        "def train_and_evaluate(model, train_loader, test_loader, criterion, optimizer, scheduler, epochs, save_path):\n",
        "    for epoch in range(epochs):\n",
        "        model.train()\n",
        "        for i, (inputs, labels) in enumerate(train_loader):\n",
        "            inputs, labels = inputs.to(device), labels.to(device)\n",
        "            optimizer.zero_grad()\n",
        "            outputs = model(inputs)\n",
        "            loss = criterion(outputs, labels)\n",
        "            loss.backward()\n",
        "            optimizer.step()\n",
        "\n",
        "        scheduler.step()\n",
        "\n",
        "        with torch.no_grad():\n",
        "            model.eval()\n",
        "            test_loss = 0.0\n",
        "            acc = 0\n",
        "            total = 0\n",
        "\n",
        "            for data, target in test_loader:\n",
        "                data, target = data.to(device), target.to(device)\n",
        "                output = model(data)\n",
        "                output_list = output.cpu().detach().numpy().tolist()\n",
        "                target_list = target.cpu().detach().numpy().tolist()\n",
        "\n",
        "                for i in range(len(data)):\n",
        "                    if find_max_index(output_list[i], target_list[i]):\n",
        "                        acc += 1\n",
        "\n",
        "                total += len(data)\n",
        "                test_loss += criterion(output, target).item()\n",
        "\n",
        "            average_loss = test_loss / len(test_loader)\n",
        "            accuracy = acc / total\n",
        "\n",
        "            print(f'Epoch: {epoch+1} | Train loss: {loss.item():.4f} | Test loss: {average_loss:.4f} | Accuracy: {accuracy:.4f}')\n",
        "\n",
        "            # Save model\n",
        "            state = {\n",
        "                'epoch': epoch + 1,\n",
        "                'state_dict': model.state_dict(),\n",
        "                'optimizer': optimizer.state_dict()\n",
        "            }\n",
        "            torch.save(state, os.path.join(save_path, f'model_epoch_{epoch+1}.pth'))\n"
      ],
      "metadata": {
        "id": "Dd8eRlsAAfr4"
      },
      "execution_count": 4,
      "outputs": []
    },
    {
      "cell_type": "code",
      "source": [
        "# Hyperparameters\n",
        "batch = 64\n",
        "lr = 0.001\n",
        "epochs = 1000\n",
        "\n",
        "save_path = './saved_models'\n",
        "os.makedirs(save_path, exist_ok=True)"
      ],
      "metadata": {
        "id": "Z92sYE1FA0XS"
      },
      "execution_count": 5,
      "outputs": []
    },
    {
      "cell_type": "code",
      "execution_count": 6,
      "metadata": {
        "colab": {
          "base_uri": "https://localhost:8080/"
        },
        "id": "RIWNPMmC6q7_",
        "outputId": "bfea8350-542b-439c-9779-c7c9b089a518"
      },
      "outputs": [
        {
          "output_type": "stream",
          "name": "stdout",
          "text": [
            "Downloading https://www.cs.toronto.edu/~kriz/cifar-10-python.tar.gz to ./data/cifar-10-python.tar.gz\n"
          ]
        },
        {
          "output_type": "stream",
          "name": "stderr",
          "text": [
            "100%|██████████| 170498071/170498071 [00:02<00:00, 59388573.81it/s]\n"
          ]
        },
        {
          "output_type": "stream",
          "name": "stdout",
          "text": [
            "Extracting ./data/cifar-10-python.tar.gz to ./data\n",
            "Files already downloaded and verified\n"
          ]
        }
      ],
      "source": [
        "# Data loading and preprocessing\n",
        "transform = transforms.Compose([\n",
        "    transforms.RandomHorizontalFlip(),\n",
        "    transforms.RandomCrop(32, padding=4),\n",
        "\n",
        "    transforms.ToTensor(),\n",
        "    # transforms.Normalize((0.5, 0.5, 0.5), (0.5, 0.5, 0.5))\n",
        "    transforms.Normalize((0.4914, 0.4822, 0.4465), (0.2023, 0.1994, 0.2010))\n",
        "])\n",
        "\n",
        "train_dataset = datasets.CIFAR10(root='./data', train=True, download=True, transform=transform)\n",
        "train_loader = torch.utils.data.DataLoader(train_dataset, batch_size=batch, shuffle=True)\n",
        "\n",
        "test_dataset = datasets.CIFAR10(root='./data', train=False, download=True, transform=transform)\n",
        "test_loader = torch.utils.data.DataLoader(test_dataset, batch_size=batch, shuffle=False)"
      ]
    },
    {
      "cell_type": "code",
      "source": [
        "# Model, loss function, and optimizer\n",
        "model = ResNet(ResidualBlock, [3, 4, 6, 3]).to(device)\n",
        "criterion = nn.CrossEntropyLoss().to(device)\n",
        "optimizer = optim.SGD(model.parameters(), lr=lr, momentum=0.9, weight_decay=5e-4)\n",
        "scheduler = torch.optim.lr_scheduler.StepLR(optimizer, step_size=30, gamma=0.1)\n",
        "\n",
        "# Training and evaluation\n",
        "train_and_evaluate(model, train_loader, test_loader, criterion, optimizer, scheduler, epochs, save_path)"
      ],
      "metadata": {
        "id": "ZZ4_OYfyA13o",
        "colab": {
          "base_uri": "https://localhost:8080/"
        },
        "outputId": "bfe487bb-ba29-4886-88ec-8ca6fb5c0e05"
      },
      "execution_count": null,
      "outputs": [
        {
          "output_type": "stream",
          "name": "stderr",
          "text": [
            "/usr/local/lib/python3.10/dist-packages/torch/nn/modules/conv.py:456: UserWarning: Plan failed with a cudnnException: CUDNN_BACKEND_EXECUTION_PLAN_DESCRIPTOR: cudnnFinalize Descriptor Failed cudnn_status: CUDNN_STATUS_NOT_SUPPORTED (Triggered internally at ../aten/src/ATen/native/cudnn/Conv_v8.cpp:919.)\n",
            "  return F.conv2d(input, weight, bias, self.stride,\n"
          ]
        },
        {
          "output_type": "stream",
          "name": "stdout",
          "text": [
            "Epoch: 1 | Train loss: 1.9255 | Test loss: 1.8910 | Accuracy: 0.3018\n",
            "Epoch: 2 | Train loss: 1.6203 | Test loss: 1.7043 | Accuracy: 0.3727\n",
            "Epoch: 3 | Train loss: 1.5068 | Test loss: 1.6221 | Accuracy: 0.4007\n",
            "Epoch: 4 | Train loss: 1.6157 | Test loss: 1.5443 | Accuracy: 0.4202\n",
            "Epoch: 5 | Train loss: 1.4284 | Test loss: 1.4807 | Accuracy: 0.4503\n",
            "Epoch: 6 | Train loss: 1.7260 | Test loss: 1.4578 | Accuracy: 0.4675\n",
            "Epoch: 7 | Train loss: 1.6158 | Test loss: 1.3695 | Accuracy: 0.5148\n",
            "Epoch: 8 | Train loss: 1.6283 | Test loss: 1.3484 | Accuracy: 0.5062\n",
            "Epoch: 9 | Train loss: 1.7086 | Test loss: 1.3140 | Accuracy: 0.5238\n",
            "Epoch: 10 | Train loss: 1.8252 | Test loss: 1.4260 | Accuracy: 0.4833\n",
            "Epoch: 11 | Train loss: 1.4153 | Test loss: 1.2323 | Accuracy: 0.5628\n",
            "Epoch: 12 | Train loss: 1.6437 | Test loss: 1.1952 | Accuracy: 0.5794\n",
            "Epoch: 13 | Train loss: 1.4820 | Test loss: 1.1207 | Accuracy: 0.5991\n",
            "Epoch: 14 | Train loss: 1.3104 | Test loss: 1.1287 | Accuracy: 0.5993\n",
            "Epoch: 15 | Train loss: 1.5207 | Test loss: 1.1157 | Accuracy: 0.6075\n",
            "Epoch: 16 | Train loss: 0.9980 | Test loss: 1.0972 | Accuracy: 0.6127\n",
            "Epoch: 17 | Train loss: 1.4170 | Test loss: 1.1355 | Accuracy: 0.6072\n",
            "Epoch: 18 | Train loss: 1.1150 | Test loss: 1.0457 | Accuracy: 0.6362\n",
            "Epoch: 19 | Train loss: 1.9580 | Test loss: 1.0183 | Accuracy: 0.6405\n",
            "Epoch: 20 | Train loss: 0.9889 | Test loss: 0.9969 | Accuracy: 0.6556\n",
            "Epoch: 21 | Train loss: 1.8983 | Test loss: 0.9544 | Accuracy: 0.6662\n",
            "Epoch: 22 | Train loss: 0.5050 | Test loss: 1.0045 | Accuracy: 0.6502\n",
            "Epoch: 23 | Train loss: 0.9726 | Test loss: 0.9778 | Accuracy: 0.6676\n",
            "Epoch: 24 | Train loss: 1.0563 | Test loss: 0.9691 | Accuracy: 0.6644\n",
            "Epoch: 25 | Train loss: 1.4602 | Test loss: 0.9277 | Accuracy: 0.6783\n"
          ]
        }
      ]
    }
  ]
}