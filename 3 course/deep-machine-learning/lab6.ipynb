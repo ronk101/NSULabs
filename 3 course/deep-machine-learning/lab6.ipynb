{
  "cells": [
    {
      "cell_type": "code",
      "execution_count": 27,
      "metadata": {
        "id": "j03gkGgDAeT3"
      },
      "outputs": [
        {
          "name": "stdout",
          "output_type": "stream",
          "text": [
            "cuda:0\n"
          ]
        }
      ],
      "source": [
        "import torch\n",
        "import torch.nn as nn\n",
        "import torch.optim as optim\n",
        "from torchvision import datasets, transforms\n",
        "\n",
        "import os\n",
        "\n",
        "device = torch.device(\"cuda:0\" if torch.cuda.is_available() else \"cpu\")\n",
        "print(device)"
      ]
    },
    {
      "cell_type": "code",
      "execution_count": 28,
      "metadata": {
        "id": "SFpVf9N2AfeV"
      },
      "outputs": [],
      "source": [
        "class ResidualBlock(nn.Module):\n",
        "    def __init__(self, in_channels, out_channels, stride=1):\n",
        "        super(ResidualBlock, self).__init__()\n",
        "\n",
        "        self.conv_block = nn.Sequential(\n",
        "            nn.Conv2d(in_channels, out_channels, kernel_size=3, stride=stride, padding=1, bias=False), # kernel_size=3, padding=1\n",
        "            nn.BatchNorm2d(out_channels),\n",
        "            nn.ReLU(inplace=True),\n",
        "            nn.Conv2d(out_channels, out_channels, kernel_size=3, stride=1, padding=1, bias=False), # kernel_size=3, padding=1\n",
        "            nn.BatchNorm2d(out_channels)\n",
        "        )\n",
        "\n",
        "        self.relu = nn.ReLU(inplace=True)\n",
        "\n",
        "        self.downsample = nn.Sequential(\n",
        "            nn.Conv2d(in_channels, out_channels, kernel_size=1, stride=stride, bias=False),\n",
        "            nn.BatchNorm2d(out_channels)\n",
        "        ) if stride != 1 or in_channels != out_channels else None\n",
        "\n",
        "    def forward(self, x):\n",
        "        residual = x\n",
        "        out = self.conv_block(x)\n",
        "        if self.downsample:\n",
        "            residual = self.downsample(x)\n",
        "        out += residual\n",
        "        out = self.relu(out)\n",
        "        return out\n"
      ]
    },
    {
      "cell_type": "code",
      "execution_count": 29,
      "metadata": {
        "id": "TPdlwK6wAflr"
      },
      "outputs": [],
      "source": [
        "class ResNet(nn.Module):\n",
        "    def __init__(self, block, layers, num_classes=10):\n",
        "        super(ResNet, self).__init__()\n",
        "        #self.in_channels = 64\n",
        "        self.in_channels = 128\n",
        "        channels = 128\n",
        "        self.initial = nn.Sequential(\n",
        "            nn.Conv2d(3, channels, kernel_size=3, stride=1, padding=1, bias=False),\n",
        "            nn.BatchNorm2d(channels),\n",
        "            nn.ReLU(inplace=True),\n",
        "            nn.MaxPool2d(kernel_size=3, stride=1, padding=1)\n",
        "        )\n",
        "        self.layer1 = self.make_layer(block, channels, layers[0])\n",
        "        self.layer2 = self.make_layer(block, channels * 2, layers[1], stride=2)\n",
        "        self.layer3 = self.make_layer(block, channels * 4, layers[2], stride=2)\n",
        "        self.layer4 = self.make_layer(block, channels * 8, layers[3], stride=2)\n",
        "        self.avgpool = nn.AdaptiveAvgPool2d((1, 1))\n",
        "\n",
        "        self.dropout = nn.Dropout(0.5)\n",
        "\n",
        "        self.fc = nn.Linear(channels * 8, num_classes)\n",
        "\n",
        "    def make_layer(self, block, out_channels, blocks, stride=1):\n",
        "        layers = []\n",
        "        layers.append(block(self.in_channels, out_channels, stride))\n",
        "        self.in_channels = out_channels\n",
        "        for _ in range(1, blocks):\n",
        "            layers.append(block(out_channels, out_channels))\n",
        "        return nn.Sequential(*layers)\n",
        "\n",
        "    def forward(self, x):\n",
        "        x = self.initial(x)\n",
        "        x = self.layer1(x)\n",
        "        x = self.layer2(x)\n",
        "        x = self.layer3(x)\n",
        "        x = self.layer4(x)\n",
        "        x = self.avgpool(x)\n",
        "        x = x.view(x.size(0), -1)\n",
        "\n",
        "        x = self.dropout(x)\n",
        "\n",
        "        x = self.fc(x)\n",
        "        return x"
      ]
    },
    {
      "cell_type": "code",
      "execution_count": 34,
      "metadata": {
        "id": "Dd8eRlsAAfr4"
      },
      "outputs": [],
      "source": [
        "def find_max_index(predictions, target):\n",
        "    predicted_index = predictions.index(max(predictions))\n",
        "    return predicted_index == target\n",
        "\n",
        "def train_and_evaluate(model, train_loader, test_loader, criterion, optimizer, epochs, save_path):\n",
        "    for epoch in range(epochs):\n",
        "        model.train()\n",
        "        for i, (inputs, labels) in enumerate(train_loader):\n",
        "            inputs, labels = inputs.to(device), labels.to(device)\n",
        "            optimizer.zero_grad()\n",
        "            outputs = model(inputs)\n",
        "            loss = criterion(outputs, labels)\n",
        "            loss.backward()\n",
        "            optimizer.step()\n",
        "\n",
        "        with torch.no_grad():\n",
        "            model.eval()\n",
        "            test_loss = 0.0\n",
        "            acc = 0\n",
        "            total = 0\n",
        "\n",
        "            for data, target in test_loader:\n",
        "                data, target = data.to(device), target.to(device)\n",
        "                output = model(data)\n",
        "                output_list = output.cpu().detach().numpy().tolist()\n",
        "                target_list = target.cpu().detach().numpy().tolist()\n",
        "\n",
        "                for i in range(len(data)):\n",
        "                    if find_max_index(output_list[i], target_list[i]):\n",
        "                        acc += 1\n",
        "\n",
        "                total += len(data)\n",
        "                test_loss += criterion(output, target).item()\n",
        "\n",
        "            average_loss = test_loss / len(test_loader)\n",
        "            accuracy = acc / total\n",
        "\n",
        "            print(f'Epoch: {epoch+1} | Train loss: {loss.item():.4f} | Test loss: {average_loss:.4f} | Accuracy: {accuracy:.4f}')\n",
        "            \n",
        "            # Save model\n",
        "            if (epoch % 3 == 0):\n",
        "                torch.save(model.state_dict(), os.path.join(save_path, f'model_epoch_{epoch+1}.pth'))\n"
      ]
    },
    {
      "cell_type": "code",
      "execution_count": 35,
      "metadata": {
        "id": "Z92sYE1FA0XS"
      },
      "outputs": [],
      "source": [
        "# Hyperparameters\n",
        "batch = 128\n",
        "lr = 0.001\n",
        "epochs = 35\n",
        "\n",
        "save_path = './saved_models_2'\n",
        "os.makedirs(save_path, exist_ok=True)"
      ]
    },
    {
      "cell_type": "code",
      "execution_count": 38,
      "metadata": {
        "colab": {
          "base_uri": "https://localhost:8080/"
        },
        "id": "RIWNPMmC6q7_",
        "outputId": "bfea8350-542b-439c-9779-c7c9b089a518"
      },
      "outputs": [
        {
          "name": "stdout",
          "output_type": "stream",
          "text": [
            "Files already downloaded and verified\n",
            "Files already downloaded and verified\n"
          ]
        }
      ],
      "source": [
        "# Data loading and preprocessing\n",
        "transform = transforms.Compose([\n",
        "    #transforms.RandomCrop(32, padding=1),\n",
        "    transforms.RandomHorizontalFlip(p=0.5),\n",
        "    # transforms.RandomVerticalFlip(p=0.5),\n",
        "    # transforms.RandomRotation(degrees=15),\n",
        "    # transforms.RandomResizedCrop(size=32, scale=(0.8, 1.0)),\n",
        "    # transforms.ColorJitter(brightness=0.2, contrast=0.2, saturation=0.2, hue=0.1),\n",
        "    # transforms.RandomGrayscale(p=0.1),\n",
        "    transforms.ToTensor(),\n",
        "    transforms.Normalize((0.4915, 0.4823, 0.4468), (0.2023, 0.2435, 0.2616))\n",
        "\n",
        "    # transforms.ToTensor(),\n",
        "    # transforms.Normalize((0.5, 0.5, 0.5), (0.5, 0.5, 0.5))\n",
        "    # transforms.Normalize((0.4914, 0.4822, 0.4465), (0.2023, 0.1994, 0.2010))\n",
        "])\n",
        "\n",
        "train_dataset = datasets.CIFAR10(root='./data', train=True, download=True, transform=transform)\n",
        "train_loader = torch.utils.data.DataLoader(train_dataset, batch_size=batch, shuffle=True)\n",
        "\n",
        "test_dataset = datasets.CIFAR10(root='./data', train=False, download=True, transform=transform)\n",
        "test_loader = torch.utils.data.DataLoader(test_dataset, batch_size=batch, shuffle=False)"
      ]
    },
    {
      "cell_type": "code",
      "execution_count": 39,
      "metadata": {
        "colab": {
          "base_uri": "https://localhost:8080/"
        },
        "id": "ZZ4_OYfyA13o",
        "outputId": "bfe487bb-ba29-4886-88ec-8ca6fb5c0e05"
      },
      "outputs": [
        {
          "name": "stdout",
          "output_type": "stream",
          "text": [
            "Результаты:\n",
            "Epoch: 1 | Train loss: 0.9808 | Test loss: 1.2093 | Accuracy: 0.5696\n",
            "Epoch: 2 | Train loss: 0.6937 | Test loss: 0.9286 | Accuracy: 0.6773\n",
            "Epoch: 3 | Train loss: 0.4644 | Test loss: 0.7555 | Accuracy: 0.7445\n",
            "Epoch: 4 | Train loss: 0.6155 | Test loss: 0.6593 | Accuracy: 0.7777\n",
            "Epoch: 5 | Train loss: 0.3704 | Test loss: 0.5664 | Accuracy: 0.8099\n",
            "Epoch: 6 | Train loss: 0.5049 | Test loss: 0.5392 | Accuracy: 0.8224\n",
            "Epoch: 7 | Train loss: 0.4410 | Test loss: 0.5287 | Accuracy: 0.8287\n",
            "Epoch: 8 | Train loss: 0.3442 | Test loss: 0.4780 | Accuracy: 0.8368\n",
            "Epoch: 9 | Train loss: 0.2013 | Test loss: 0.4578 | Accuracy: 0.8493\n",
            "Epoch: 10 | Train loss: 0.2716 | Test loss: 0.4261 | Accuracy: 0.8643\n",
            "Epoch: 11 | Train loss: 0.2090 | Test loss: 0.5293 | Accuracy: 0.8372\n",
            "Epoch: 12 | Train loss: 0.1660 | Test loss: 0.4400 | Accuracy: 0.8610\n",
            "Epoch: 13 | Train loss: 0.1107 | Test loss: 0.4949 | Accuracy: 0.8591\n",
            "Epoch: 14 | Train loss: 0.1311 | Test loss: 0.5196 | Accuracy: 0.8589\n",
            "Epoch: 15 | Train loss: 0.1994 | Test loss: 0.4827 | Accuracy: 0.8676\n",
            "Epoch: 16 | Train loss: 0.0438 | Test loss: 0.4717 | Accuracy: 0.8726\n",
            "Epoch: 17 | Train loss: 0.1328 | Test loss: 0.5009 | Accuracy: 0.8670\n",
            "Epoch: 18 | Train loss: 0.0479 | Test loss: 0.5368 | Accuracy: 0.8635\n",
            "Epoch: 19 | Train loss: 0.0840 | Test loss: 0.4920 | Accuracy: 0.8741\n",
            "Epoch: 20 | Train loss: 0.0149 | Test loss: 0.5204 | Accuracy: 0.8753\n",
            "Epoch: 21 | Train loss: 0.1153 | Test loss: 0.5336 | Accuracy: 0.8744\n",
            "Epoch: 22 | Train loss: 0.0192 | Test loss: 0.5415 | Accuracy: 0.8742\n",
            "Epoch: 23 | Train loss: 0.0117 | Test loss: 0.5549 | Accuracy: 0.8683\n",
            "Epoch: 24 | Train loss: 0.1228 | Test loss: 0.6846 | Accuracy: 0.8576\n",
            "Epoch: 25 | Train loss: 0.0951 | Test loss: 0.5847 | Accuracy: 0.8771\n",
            "Epoch: 26 | Train loss: 0.0371 | Test loss: 0.5979 | Accuracy: 0.8709\n",
            "Epoch: 27 | Train loss: 0.0215 | Test loss: 0.5978 | Accuracy: 0.8760\n",
            "Epoch: 28 | Train loss: 0.0307 | Test loss: 0.6055 | Accuracy: 0.8757\n",
            "Epoch: 29 | Train loss: 0.0759 | Test loss: 0.5712 | Accuracy: 0.8779\n",
            "Epoch: 30 | Train loss: 0.0504 | Test loss: 0.5985 | Accuracy: 0.8767\n",
            "Epoch: 31 | Train loss: 0.0459 | Test loss: 0.6550 | Accuracy: 0.8712\n",
            "Epoch: 32 | Train loss: 0.0092 | Test loss: 0.6267 | Accuracy: 0.8699\n",
            "Epoch: 33 | Train loss: 0.0311 | Test loss: 0.6250 | Accuracy: 0.8782\n",
            "Epoch: 34 | Train loss: 0.0233 | Test loss: 0.6501 | Accuracy: 0.8759\n",
            "Epoch: 35 | Train loss: 0.0095 | Test loss: 0.6146 | Accuracy: 0.8770\n"
          ]
        }
      ],
      "source": [
        "# Model, loss function, and optimizer\n",
        "model = ResNet(ResidualBlock, [2, 2, 2, 2]).to(device)\n",
        "criterion = nn.CrossEntropyLoss().to(device)\n",
        "optimizer = optim.Adam(model.parameters(), lr=lr)\n",
        "\n",
        "print(\"Результаты:\")\n",
        "# Training and evaluation\n",
        "train_and_evaluate(model, train_loader, test_loader, criterion, optimizer, epochs, save_path)"
      ]
    },
    {
      "cell_type": "code",
      "execution_count": 1,
      "metadata": {},
      "outputs": [
        {
          "name": "stderr",
          "output_type": "stream",
          "text": [
            "/usr/lib/python3/dist-packages/scipy/__init__.py:146: UserWarning: A NumPy version >=1.17.3 and <1.25.0 is required for this version of SciPy (detected version 1.26.4\n",
            "  warnings.warn(f\"A NumPy version >={np_minversion} and <{np_maxversion}\"\n"
          ]
        },
        {
          "ename": "NameError",
          "evalue": "name 'os' is not defined",
          "output_type": "error",
          "traceback": [
            "\u001b[0;31m---------------------------------------------------------------------------\u001b[0m",
            "\u001b[0;31mNameError\u001b[0m                                 Traceback (most recent call last)",
            "Cell \u001b[0;32mIn[1], line 27\u001b[0m\n\u001b[1;32m     23\u001b[0m     model\u001b[38;5;241m.\u001b[39mload_state_dict(checkpoint[\u001b[38;5;124m'\u001b[39m\u001b[38;5;124mstate_dict\u001b[39m\u001b[38;5;124m'\u001b[39m])\n\u001b[1;32m     26\u001b[0m \u001b[38;5;66;03m# Загрузка сохраненной модели\u001b[39;00m\n\u001b[0;32m---> 27\u001b[0m checkpoint_path \u001b[38;5;241m=\u001b[39m \u001b[43mos\u001b[49m\u001b[38;5;241m.\u001b[39mpath\u001b[38;5;241m.\u001b[39mjoin(\u001b[38;5;124m'\u001b[39m\u001b[38;5;124m./saved_models_2\u001b[39m\u001b[38;5;124m'\u001b[39m, \u001b[38;5;124m'\u001b[39m\u001b[38;5;124mmodel_epoch_34.pth\u001b[39m\u001b[38;5;124m'\u001b[39m) \n\u001b[1;32m     28\u001b[0m load_model(model, checkpoint_path)\n\u001b[1;32m     30\u001b[0m \u001b[38;5;66;03m# Оценка точности\u001b[39;00m\n",
            "\u001b[0;31mNameError\u001b[0m: name 'os' is not defined"
          ]
        }
      ],
      "source": [
        "from sklearn.metrics import precision_score\n",
        "\n",
        "# Функция для расчета precision\n",
        "def evaluate_precision(model, test_loader, criterion):\n",
        "    model.eval()\n",
        "    y_true = []\n",
        "    y_pred = []\n",
        "\n",
        "    with torch.no_grad():\n",
        "        for data, target in test_loader:\n",
        "            data, target = data.to(device), target.to(device)\n",
        "            output = model(data)\n",
        "            _, predicted = torch.max(output.data, 1)\n",
        "            y_true.extend(target.cpu().numpy())\n",
        "            y_pred.extend(predicted.cpu().numpy())\n",
        "\n",
        "    precision = precision_score(y_true, y_pred, average='macro')\n",
        "    return precision\n",
        "\n",
        "# Загрузка сохраненной модели\n",
        "def load_model(model, checkpoint_path):\n",
        "    checkpoint = torch.load(checkpoint_path)\n",
        "    model.load_state_dict(checkpoint['state_dict'])\n",
        "\n",
        "\n",
        "# Загрузка сохраненной модели\n",
        "checkpoint_path = os.path.join('./saved_models_2', 'model_epoch_34.pth') \n",
        "load_model(model, checkpoint_path)\n",
        "\n",
        "# Оценка точности\n",
        "precision = evaluate_precision(model, test_loader, nn.CrossEntropyLoss())\n",
        "print(f'Precision: {precision:.4f}')"
      ]
    }
  ],
  "metadata": {
    "accelerator": "GPU",
    "colab": {
      "gpuType": "T4",
      "provenance": []
    },
    "kernelspec": {
      "display_name": "Python 3",
      "name": "python3"
    },
    "language_info": {
      "codemirror_mode": {
        "name": "ipython",
        "version": 3
      },
      "file_extension": ".py",
      "mimetype": "text/x-python",
      "name": "python",
      "nbconvert_exporter": "python",
      "pygments_lexer": "ipython3",
      "version": "3.10.12"
    }
  },
  "nbformat": 4,
  "nbformat_minor": 0
}
